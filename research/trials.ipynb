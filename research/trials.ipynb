{
 "cells": [
  {
   "cell_type": "code",
   "execution_count": 2,
   "id": "6972312b",
   "metadata": {},
   "outputs": [],
   "source": [
    "d = {\"key\":\"value\", \"key1\":\"value1\"}"
   ]
  },
  {
   "cell_type": "code",
   "execution_count": 3,
   "id": "49c4dbae",
   "metadata": {},
   "outputs": [
    {
     "data": {
      "text/plain": [
       "'value'"
      ]
     },
     "execution_count": 3,
     "metadata": {},
     "output_type": "execute_result"
    }
   ],
   "source": [
    "d[\"key\"]"
   ]
  },
  {
   "cell_type": "code",
   "execution_count": 4,
   "id": "3728fa2c",
   "metadata": {},
   "outputs": [
    {
     "ename": "AttributeError",
     "evalue": "'dict' object has no attribute 'key'",
     "output_type": "error",
     "traceback": [
      "\u001b[31m---------------------------------------------------------------------------\u001b[39m",
      "\u001b[31mAttributeError\u001b[39m                            Traceback (most recent call last)",
      "\u001b[36mCell\u001b[39m\u001b[36m \u001b[39m\u001b[32mIn[4]\u001b[39m\u001b[32m, line 1\u001b[39m\n\u001b[32m----> \u001b[39m\u001b[32m1\u001b[39m \u001b[43md\u001b[49m\u001b[43m.\u001b[49m\u001b[43mkey\u001b[49m\n",
      "\u001b[31mAttributeError\u001b[39m: 'dict' object has no attribute 'key'"
     ]
    }
   ],
   "source": [
    "d.key"
   ]
  },
  {
   "cell_type": "code",
   "execution_count": 6,
   "id": "33aa605f",
   "metadata": {},
   "outputs": [
    {
     "name": "stdout",
     "output_type": "stream",
     "text": [
      "Collecting box\n",
      "  Downloading box-0.1.5-py3-none-any.whl.metadata (1.6 kB)\n",
      "Collecting aiohttp>=3.8.1 (from box)\n",
      "  Downloading aiohttp-3.11.16-cp312-cp312-win_amd64.whl.metadata (8.0 kB)\n",
      "Collecting columnar==1.3.1 (from box)\n",
      "  Downloading Columnar-1.3.1-py3-none-any.whl.metadata (11 kB)\n",
      "Collecting executing==0.8.2 (from box)\n",
      "  Downloading executing-0.8.2-py2.py3-none-any.whl.metadata (8.4 kB)\n",
      "Collecting loguru (from box)\n",
      "  Downloading loguru-0.7.3-py3-none-any.whl.metadata (22 kB)\n",
      "Collecting python-dateutil==2.8.2 (from box)\n",
      "  Downloading python_dateutil-2.8.2-py2.py3-none-any.whl.metadata (8.2 kB)\n",
      "Collecting timeago==1.0.14 (from box)\n",
      "  Downloading timeago-1.0.14.tar.gz (24 kB)\n",
      "  Preparing metadata (setup.py): started\n",
      "  Preparing metadata (setup.py): finished with status 'done'\n",
      "Collecting toolz (from columnar==1.3.1->box)\n",
      "  Downloading toolz-1.0.0-py3-none-any.whl.metadata (5.1 kB)\n",
      "Requirement already satisfied: wcwidth in c:\\users\\ankush\\appdata\\roaming\\python\\python312\\site-packages (from columnar==1.3.1->box) (0.2.13)\n",
      "Requirement already satisfied: six>=1.5 in c:\\users\\ankush\\appdata\\local\\programs\\python\\python312\\lib\\site-packages (from python-dateutil==2.8.2->box) (1.16.0)\n",
      "Collecting aiohappyeyeballs>=2.3.0 (from aiohttp>=3.8.1->box)\n",
      "  Downloading aiohappyeyeballs-2.6.1-py3-none-any.whl.metadata (5.9 kB)\n",
      "Collecting aiosignal>=1.1.2 (from aiohttp>=3.8.1->box)\n",
      "  Downloading aiosignal-1.3.2-py2.py3-none-any.whl.metadata (3.8 kB)\n",
      "Collecting attrs>=17.3.0 (from aiohttp>=3.8.1->box)\n",
      "  Using cached attrs-25.3.0-py3-none-any.whl.metadata (10 kB)\n",
      "Collecting frozenlist>=1.1.1 (from aiohttp>=3.8.1->box)\n",
      "  Downloading frozenlist-1.5.0-cp312-cp312-win_amd64.whl.metadata (14 kB)\n",
      "Collecting multidict<7.0,>=4.5 (from aiohttp>=3.8.1->box)\n",
      "  Downloading multidict-6.4.3-cp312-cp312-win_amd64.whl.metadata (5.5 kB)\n",
      "Collecting propcache>=0.2.0 (from aiohttp>=3.8.1->box)\n",
      "  Downloading propcache-0.3.1-cp312-cp312-win_amd64.whl.metadata (11 kB)\n",
      "Collecting yarl<2.0,>=1.17.0 (from aiohttp>=3.8.1->box)\n",
      "  Downloading yarl-1.19.0-cp312-cp312-win_amd64.whl.metadata (74 kB)\n",
      "Requirement already satisfied: colorama>=0.3.4 in c:\\users\\ankush\\appdata\\roaming\\python\\python312\\site-packages (from loguru->box) (0.4.6)\n",
      "Collecting win32-setctime>=1.0.0 (from loguru->box)\n",
      "  Downloading win32_setctime-1.2.0-py3-none-any.whl.metadata (2.4 kB)\n",
      "Requirement already satisfied: idna>=2.0 in c:\\users\\ankush\\appdata\\local\\programs\\python\\python312\\lib\\site-packages (from yarl<2.0,>=1.17.0->aiohttp>=3.8.1->box) (3.10)\n",
      "Downloading box-0.1.5-py3-none-any.whl (162 kB)\n",
      "Downloading Columnar-1.3.1-py3-none-any.whl (11 kB)\n",
      "Downloading executing-0.8.2-py2.py3-none-any.whl (16 kB)\n",
      "Downloading python_dateutil-2.8.2-py2.py3-none-any.whl (247 kB)\n",
      "Downloading aiohttp-3.11.16-cp312-cp312-win_amd64.whl (438 kB)\n",
      "Downloading loguru-0.7.3-py3-none-any.whl (61 kB)\n",
      "Downloading aiohappyeyeballs-2.6.1-py3-none-any.whl (15 kB)\n",
      "Downloading aiosignal-1.3.2-py2.py3-none-any.whl (7.6 kB)\n",
      "Downloading attrs-25.3.0-py3-none-any.whl (63 kB)\n",
      "Downloading frozenlist-1.5.0-cp312-cp312-win_amd64.whl (51 kB)\n",
      "Downloading multidict-6.4.3-cp312-cp312-win_amd64.whl (38 kB)\n",
      "Downloading propcache-0.3.1-cp312-cp312-win_amd64.whl (44 kB)\n",
      "Downloading win32_setctime-1.2.0-py3-none-any.whl (4.1 kB)\n",
      "Downloading yarl-1.19.0-cp312-cp312-win_amd64.whl (92 kB)\n",
      "Downloading toolz-1.0.0-py3-none-any.whl (56 kB)\n",
      "Building wheels for collected packages: timeago\n",
      "  Building wheel for timeago (setup.py): started\n",
      "  Building wheel for timeago (setup.py): finished with status 'done'\n",
      "  Created wheel for timeago: filename=timeago-1.0.14-py3-none-any.whl size=26461 sha256=ee686562b31dbd5873a118bdb85b5380423aec99980a18b39330de5d116d11a7\n",
      "  Stored in directory: c:\\users\\ankush\\appdata\\local\\pip\\cache\\wheels\\4e\\e0\\26\\558f81a666781177210762e365b3b5679602c9670618326f24\n",
      "Successfully built timeago\n",
      "Installing collected packages: timeago, executing, win32-setctime, toolz, python-dateutil, propcache, multidict, frozenlist, attrs, aiohappyeyeballs, yarl, loguru, columnar, aiosignal, aiohttp, box\n",
      "  Attempting uninstall: executing\n",
      "    Found existing installation: executing 2.2.0\n",
      "    Uninstalling executing-2.2.0:\n",
      "      Successfully uninstalled executing-2.2.0\n",
      "  Attempting uninstall: python-dateutil\n",
      "    Found existing installation: python-dateutil 2.9.0.post0\n",
      "    Uninstalling python-dateutil-2.9.0.post0:\n",
      "      Successfully uninstalled python-dateutil-2.9.0.post0\n",
      "Successfully installed aiohappyeyeballs-2.6.1 aiohttp-3.11.16 aiosignal-1.3.2 attrs-25.3.0 box-0.1.5 columnar-1.3.1 executing-0.8.2 frozenlist-1.5.0 loguru-0.7.3 multidict-6.4.3 propcache-0.3.1 python-dateutil-2.8.2 timeago-1.0.14 toolz-1.0.0 win32-setctime-1.2.0 yarl-1.19.0\n",
      "Note: you may need to restart the kernel to use updated packages.\n"
     ]
    },
    {
     "name": "stderr",
     "output_type": "stream",
     "text": [
      "ERROR: pip's dependency resolver does not currently take into account all the packages that are installed. This behaviour is the source of the following dependency conflicts.\n",
      "stack-data 0.6.3 requires executing>=1.2.0, but you have executing 0.8.2 which is incompatible.\n"
     ]
    }
   ],
   "source": [
    "pip install box"
   ]
  },
  {
   "cell_type": "code",
   "execution_count": 9,
   "id": "3d50e383",
   "metadata": {},
   "outputs": [
    {
     "name": "stdout",
     "output_type": "stream",
     "text": [
      "Collecting python-box==6.0.2\n",
      "  Using cached python_box-6.0.2-py3-none-any.whl.metadata (7.7 kB)\n",
      "Downloading python_box-6.0.2-py3-none-any.whl (26 kB)\n",
      "Installing collected packages: python-box\n",
      "Successfully installed python-box-6.0.2\n",
      "Note: you may need to restart the kernel to use updated packages.\n"
     ]
    }
   ],
   "source": [
    "pip install python-box==6.0.2\n"
   ]
  },
  {
   "cell_type": "code",
   "execution_count": null,
   "id": "7b9949db",
   "metadata": {},
   "outputs": [],
   "source": [
    "pip uninstall box\n"
   ]
  },
  {
   "cell_type": "code",
   "execution_count": 11,
   "id": "443930f0",
   "metadata": {},
   "outputs": [
    {
     "ename": "ImportError",
     "evalue": "cannot import name 'ConfigBox' from 'box' (c:\\Users\\Ankush\\AppData\\Local\\Programs\\Python\\Python312\\Lib\\site-packages\\box\\__init__.py)",
     "output_type": "error",
     "traceback": [
      "\u001b[31m---------------------------------------------------------------------------\u001b[39m",
      "\u001b[31mImportError\u001b[39m                               Traceback (most recent call last)",
      "\u001b[36mCell\u001b[39m\u001b[36m \u001b[39m\u001b[32mIn[11]\u001b[39m\u001b[32m, line 1\u001b[39m\n\u001b[32m----> \u001b[39m\u001b[32m1\u001b[39m \u001b[38;5;28;01mfrom\u001b[39;00m \u001b[34;01mbox\u001b[39;00m \u001b[38;5;28;01mimport\u001b[39;00m ConfigBox\n",
      "\u001b[31mImportError\u001b[39m: cannot import name 'ConfigBox' from 'box' (c:\\Users\\Ankush\\AppData\\Local\\Programs\\Python\\Python312\\Lib\\site-packages\\box\\__init__.py)"
     ]
    }
   ],
   "source": [
    "from box import ConfigBox"
   ]
  },
  {
   "cell_type": "code",
   "execution_count": null,
   "id": "e9ca127e",
   "metadata": {},
   "outputs": [],
   "source": [
    "d2 = ConfigBox({\"key\":\"value\", \"key1\":\"value1\"})"
   ]
  },
  {
   "cell_type": "code",
   "execution_count": null,
   "id": "1d160e8b",
   "metadata": {},
   "outputs": [],
   "source": [
    "d2"
   ]
  },
  {
   "cell_type": "code",
   "execution_count": null,
   "id": "1e3a4d3c",
   "metadata": {},
   "outputs": [],
   "source": [
    "d2.key"
   ]
  },
  {
   "cell_type": "code",
   "execution_count": null,
   "id": "36749011",
   "metadata": {},
   "outputs": [],
   "source": [
    "def get_prodict(x:int, y:int) -> int:\n",
    "    return x*y"
   ]
  },
  {
   "cell_type": "code",
   "execution_count": null,
   "id": "c1960e0f",
   "metadata": {},
   "outputs": [],
   "source": [
    "get_prodict(x=2, y=4)"
   ]
  },
  {
   "cell_type": "code",
   "execution_count": null,
   "id": "46927407",
   "metadata": {},
   "outputs": [],
   "source": [
    "get_prodict(x=2, y=\"4\")"
   ]
  },
  {
   "cell_type": "code",
   "execution_count": null,
   "id": "68990f05",
   "metadata": {},
   "outputs": [],
   "source": [
    "pip install ensure==1.0.2\n"
   ]
  },
  {
   "cell_type": "code",
   "execution_count": null,
   "id": "3ffaa280",
   "metadata": {},
   "outputs": [],
   "source": [
    "from ensure import ensure_annotations"
   ]
  },
  {
   "cell_type": "code",
   "execution_count": null,
   "id": "a889e69a",
   "metadata": {},
   "outputs": [],
   "source": [
    "@ensure_annotations\n",
    "def get_prodict(x:int, y:int) -> int:\n",
    "    return x*y"
   ]
  },
  {
   "cell_type": "code",
   "execution_count": null,
   "id": "ef21a954",
   "metadata": {},
   "outputs": [],
   "source": [
    "get_prodict(x=2, y=4)"
   ]
  },
  {
   "cell_type": "code",
   "execution_count": null,
   "id": "ee2abf6f",
   "metadata": {},
   "outputs": [],
   "source": [
    "get_prodict(x=2, y=\"4\")"
   ]
  }
 ],
 "metadata": {
  "kernelspec": {
   "display_name": "Python 3",
   "language": "python",
   "name": "python3"
  },
  "language_info": {
   "codemirror_mode": {
    "name": "ipython",
    "version": 3
   },
   "file_extension": ".py",
   "mimetype": "text/x-python",
   "name": "python",
   "nbconvert_exporter": "python",
   "pygments_lexer": "ipython3",
   "version": "3.12.0"
  }
 },
 "nbformat": 4,
 "nbformat_minor": 5
}
